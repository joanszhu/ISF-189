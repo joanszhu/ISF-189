{
 "cells": [
  {
   "cell_type": "markdown",
   "metadata": {
    "collapsed": true,
    "deletable": true,
    "editable": true
   },
   "source": [
    "# ISF 189 Module\n",
    "\n",
    "Welcome to lab! Please read this lab in its entirety, as the analysis will make a lot more sense with the background context provided.\n",
    "\n",
    "This lab is intended to be a hands-on introduction to data science as it can be applied to SES (socio-economic status). \n",
    "\n",
    "SES is often measured in variables of salary, parental education, occupation status, and other factors. Historically, income has been treated as the defining factor of SES, and there have been many research studies showing that SES as defined by income is the leading factor for school performance in test scores. If you are interested in learning more, you can visit the American Psychological Association to see more research: http://www.apa.org/pi/ses/resources/publications/education.aspx\n",
    "\n",
    "Today we are going to suggest using real-world data that this may not be the case. We are going to give you the chance to explore and toggle between different variables to define SES and how much importance to assign to each variable. **Data science is not just about plugging in the numbers, it is about making many decisions and backing up those decisions with quantitative reasoning.** This can have implications later in how the world treats SES and public policy suggestions.\n",
    "\n",
    "In addition, we are going to suggest that the defining variable for SES might not even be income, but rather family wealth, that provides a more accurate prediction for school performance. \n",
    "\n",
    "There is no standard method of measuring SES. In this lab, we are going to define SES in the following ways:\n",
    "\n",
    "1. SES is a positive number that represents the ratio: $\\displaystyle \\frac {\\text{individual SES}} {\\text{median US SES}}$   where 1 means that this individual is exactly at the median SES. This number will always be positive because we are assuming that there will be no cases of negative wealth.\n",
    "<br>\n",
    "\n",
    "2. individual SES is a number such that \n",
    "\n",
    "$SES = p_i * \\text{income score} + p_e * \\text{years of education}$ \n",
    "\n",
    "where $p_i$ is the importance we assign to income on a scale of 0 to 1 and $p_e$ is the importance we assign to years of education on a scale of 0 to 1. Throughout this lab we will be changing the values of $p_i$ and $p_e$ but it is important to remember that these values *must add up to 1*. Our default values at first are $p_i$ = 0.8 and $p_e$ = 0.2.\n",
    "<br>\n",
    "\n",
    "\n",
    "Income score is a score assigned to each income bracket to ensure that all our factors are on the same scale. Our income scores are defined as follows:\n",
    "\n",
    "### Table 1: Income Scores\n",
    "\n",
    "<table>\n",
    "  <tr>\n",
    "    <th>Income Score</th>\n",
    "    <th>Income Bracket (\\$) </th>\n",
    "  </tr>\n",
    "  <tr>\n",
    "    <td>1</td>\n",
    "    <td>less than \\$10,000</td>\n",
    "  </tr>\n",
    " <tr>\n",
    "    <td>2</td>\n",
    "    <td>\\$15,000 - \\$19,999</td>\n",
    "  </tr>\n",
    "  <tr>\n",
    "    <td>3</td>\n",
    "    <td>\\$20,000 - \\$24,999</td>\n",
    "  </tr>\n",
    "  <tr>\n",
    "    <td>4</td>\n",
    "    <td>\\$25,000 - \\$29,999</td>\n",
    "  </tr>\n",
    "  <tr>\n",
    "    <td>5</td>\n",
    "    <td>\\$30,000 - \\$34,999</td>\n",
    "  </tr>\n",
    "    <tr>\n",
    "    <td>6</td>\n",
    "    <td>\\$35,000 - \\$39,999</td>\n",
    "  </tr>\n",
    "    <tr>\n",
    "    <td>7</td>\n",
    "    <td>\\$40,000 - \\$44,999</td>\n",
    "  </tr>\n",
    "    <tr>\n",
    "    <td>8</td>\n",
    "    <td>\\$45,000 - \\$49,999</td>\n",
    "  </tr>\n",
    "    <tr>\n",
    "    <td>9</td>\n",
    "    <td>\\$50,000 - \\$59,999</td>\n",
    "  </tr>\n",
    "   <tr>\n",
    "    <td>10</td>\n",
    "    <td>\\$60,000 - \\$74,999</td>\n",
    "  </tr> \n",
    "   <tr>\n",
    "    <td>11</td>\n",
    "    <td>\\$75,000 - \\$99,999</td>\n",
    "  </tr>   \n",
    "   <tr>\n",
    "    <td>12</td>\n",
    "    <td>\\$100,000 - \\$124,999</td>\n",
    "  </tr> \n",
    "   <tr>\n",
    "    <td>13</td>\n",
    "    <td>\\$125,000 - \\$149,999</td>\n",
    "  </tr> \n",
    "   <tr>\n",
    "    <td>14</td>\n",
    "    <td>\\$150,000 - \\$199,999</td>\n",
    "  </tr>\n",
    "   <tr>\n",
    "    <td>15</td>\n",
    "    <td>\\$200,000 or more</td>\n",
    "  </tr> \n",
    "</table>\n",
    "\n",
    "As you work through the lab, there will be lab assistants in the room to answer any of your questions. If you get stuck at any point, feel free to ask a neighbor or one of the lab assistants for help.\n",
    "\n",
    "## What This Lab Will Cover\n",
    "1. Running Jupyter Notebooks\n",
    "2. Data Analysis\n",
    "3. Visualization & Interpretation \n",
    "\n",
    "## What you need to do:\n",
    "* Read the content, complete the questions \n",
    "* Analyze the data\n",
    "* Submit the assignment\n",
    "\n",
    "# 1. Running Jupyter Notebooks\n",
    "\n",
    "You are currently working in a Jupyter Notebook. A Notebook allows text and code to be combined into one document. Each rectangular section of a notebook is called a \"cell.\" There are two types of cells in this notebook: text cells and code cells. \n",
    "\n",
    "Jupyter allows you to run simulations and regressions in real time. To do this, select a code cell, and click the \"run cell\" button at the top that looks like ▶| to confirm any changes. Alternatively, you can hold down the `shift` key and then press `return` or `enter`.\n",
    "\n",
    "In the following simulations, anytime you see `In [ ]` you should click the \"run cell\" button to see output. **If you get an error message after running a cell, go back to the beginning of the lab and make sure that every previous code cell has been run.**\n",
    "\n",
    "## 1.1 Importing Modules\n",
    "\n",
    "First we need to import some modules so that we can call the functions from within. We are going to use these functions to manipulate data tables and conduct math operations. Run the code cell below to import these modules."
   ]
  },
  {
   "cell_type": "code",
   "execution_count": 1,
   "metadata": {
    "collapsed": false,
    "deletable": true,
    "editable": true
   },
   "outputs": [],
   "source": [
    "from datascience import *\n",
    "import numpy as np\n",
    "import matplotlib.pyplot as plt\n",
    "from ipywidgets import *\n",
    "%matplotlib inline"
   ]
  },
  {
   "cell_type": "markdown",
   "metadata": {
    "deletable": true,
    "editable": true
   },
   "source": [
    "## 1.2 Reading Data\n",
    "In order to examine the how the weighting of these variables affects SES, we are going to examine datasets from the 5-year American Community Survey (ACS). The American Community Survey is an ongoing statistical survey by the U.S. Census Bureau. In this table, we have consolidated household income (inflation adjusted dollar) and years of education (educational attainment), and Food Stamps/Supplemental Nutrition Assistance Program (SNAP) status data for 4 different ethnicities. Run the code cell below to read in the data.\n",
    "<br>Source: https://factfinder.census.gov"
   ]
  },
  {
   "cell_type": "code",
   "execution_count": 2,
   "metadata": {
    "collapsed": false,
    "deletable": true,
    "editable": true
   },
   "outputs": [],
   "source": [
    "educ = Table.read_table('data/totaleduc.csv')\n",
    "educbyrace = Table.read_table('data/educbyrace.csv')\n",
    "income = Table.read_table('data/totalincome.csv')\n",
    "incomebyrace = Table.read_table('data/incomebyrace.csv')\n",
    "wealthscoretable = Table.read_table('data/wealthscore.csv')\n",
    "wealthbyrace = Table.read_table('data/wealthbyrace.csv')\n",
    "lorenzdata = Table.read_table('data/lorenzdata.csv')"
   ]
  },
  {
   "cell_type": "code",
   "execution_count": 3,
   "metadata": {
    "collapsed": false,
    "deletable": true,
    "editable": true
   },
   "outputs": [
    {
     "data": {
      "text/html": [
       "<table border=\"1\" class=\"dataframe\">\n",
       "    <thead>\n",
       "        <tr>\n",
       "            <th>Educational Attainment </th> <th>Male</th> <th>Female</th> <th>Total Estimate</th> <th>Cumulative Population</th>\n",
       "        </tr>\n",
       "    </thead>\n",
       "    <tbody>\n",
       "        <tr>\n",
       "            <td>Total                                      </td> <td>102,007,511</td> <td>109,455,011</td> <td>211,462,522   </td> <td>211,462,522          </td>\n",
       "        </tr>\n",
       "    </tbody>\n",
       "        <tr>\n",
       "            <td>No schooling completed                     </td> <td>1,433,002  </td> <td>1,541,446  </td> <td>2,974,448     </td> <td>2,974,448            </td>\n",
       "        </tr>\n",
       "    </tbody>\n",
       "        <tr>\n",
       "            <td>Nursery to 4th grade                       </td> <td>828,764    </td> <td>844,074    </td> <td>1,672,838     </td> <td>4,647,286            </td>\n",
       "        </tr>\n",
       "    </tbody>\n",
       "        <tr>\n",
       "            <td>5th and 6th grade                          </td> <td>1,744,550  </td> <td>1,706,996  </td> <td>3,451,546     </td> <td>8,098,832            </td>\n",
       "        </tr>\n",
       "    </tbody>\n",
       "        <tr>\n",
       "            <td>7th and 8th grade                          </td> <td>1,997,412  </td> <td>1,997,625  </td> <td>3,995,037     </td> <td>12,093,869           </td>\n",
       "        </tr>\n",
       "    </tbody>\n",
       "        <tr>\n",
       "            <td>9th grade                                  </td> <td>1,814,562  </td> <td>1,682,023  </td> <td>3,496,585     </td> <td>15,590,454           </td>\n",
       "        </tr>\n",
       "    </tbody>\n",
       "        <tr>\n",
       "            <td>10th grade                                 </td> <td>2,120,597  </td> <td>2,026,065  </td> <td>4,146,662     </td> <td>19,737,116           </td>\n",
       "        </tr>\n",
       "    </tbody>\n",
       "        <tr>\n",
       "            <td>11th grade                                 </td> <td>2,391,837  </td> <td>2,306,193  </td> <td>4,698,030     </td> <td>24,435,146           </td>\n",
       "        </tr>\n",
       "    </tbody>\n",
       "        <tr>\n",
       "            <td>12th grade, no diploma                     </td> <td>1,991,470  </td> <td>1,802,478  </td> <td>3,793,948     </td> <td>28,229,094           </td>\n",
       "        </tr>\n",
       "    </tbody>\n",
       "        <tr>\n",
       "            <td>High school graduate (includes equivalency)</td> <td>28,952,834 </td> <td>29,769,694 </td> <td>58,722,528    </td> <td>86,951,622           </td>\n",
       "        </tr>\n",
       "    </tbody>\n",
       "</table>\n",
       "<p>... (7 rows omitted)</p"
      ],
      "text/plain": [
       "Educational Attainment                      | Male        | Female      | Total Estimate | Cumulative Population\n",
       "Total                                       | 102,007,511 | 109,455,011 | 211,462,522    | 211,462,522\n",
       "No schooling completed                      | 1,433,002   | 1,541,446   | 2,974,448      | 2,974,448\n",
       "Nursery to 4th grade                        | 828,764     | 844,074     | 1,672,838      | 4,647,286\n",
       "5th and 6th grade                           | 1,744,550   | 1,706,996   | 3,451,546      | 8,098,832\n",
       "7th and 8th grade                           | 1,997,412   | 1,997,625   | 3,995,037      | 12,093,869\n",
       "9th grade                                   | 1,814,562   | 1,682,023   | 3,496,585      | 15,590,454\n",
       "10th grade                                  | 2,120,597   | 2,026,065   | 4,146,662      | 19,737,116\n",
       "11th grade                                  | 2,391,837   | 2,306,193   | 4,698,030      | 24,435,146\n",
       "12th grade, no diploma                      | 1,991,470   | 1,802,478   | 3,793,948      | 28,229,094\n",
       "High school graduate (includes equivalency) | 28,952,834  | 29,769,694  | 58,722,528     | 86,951,622\n",
       "... (7 rows omitted)"
      ]
     },
     "execution_count": 3,
     "metadata": {},
     "output_type": "execute_result"
    }
   ],
   "source": [
    "educ"
   ]
  },
  {
   "cell_type": "markdown",
   "metadata": {
    "collapsed": true,
    "deletable": true,
    "editable": true
   },
   "source": [
    "# Initial SES Comparison\n",
    "\n",
    "We are going to analyze SES in relation to race, first by determining the ratio of how the average SES (income) for a specific race (e.g. African American) compares in relation to the average SES (income) for all US citizens.\n",
    "\n",
    "Then we are going to find the same ratio again, but this time with average African American SES (wealth) in relation to average SES (wealth) for all US citizens.\n",
    "\n",
    "This may give an indication of how including wealth as a factor can dramatically change SES index values.\n",
    "\n",
    "Henceforth, all references to SES will refer to the standard income definition of SES.\n",
    "\n",
    "Then we are going to change the weightings used in SES and see how that impacts our SES index and performance ranking.\n",
    "\n",
    "First we are going to determine the ratio:\n",
    "\n",
    "$\\displaystyle \\frac {\\text{average SES for African Americans}} {\\text{average SES for all US citizens}}$\n",
    "\n",
    "We are going to look specifically at 2 variables: income and years of education. \n",
    "The following table displays information for income for African-Americans."
   ]
  },
  {
   "cell_type": "code",
   "execution_count": 4,
   "metadata": {
    "collapsed": false,
    "deletable": true,
    "editable": true
   },
   "outputs": [
    {
     "data": {
      "text/html": [
       "<table border=\"1\" class=\"dataframe\">\n",
       "    <thead>\n",
       "        <tr>\n",
       "            <th>Income Bracket ($)</th> <th>Total Estimate (African American)</th>\n",
       "        </tr>\n",
       "    </thead>\n",
       "    <tbody>\n",
       "        <tr>\n",
       "            <td>Total              </td> <td>14,186,983                       </td>\n",
       "        </tr>\n",
       "    </tbody>\n",
       "        <tr>\n",
       "            <td>less than 10,000   </td> <td>2,055,646                        </td>\n",
       "        </tr>\n",
       "    </tbody>\n",
       "        <tr>\n",
       "            <td>10,000 - 14,999    </td> <td>1,200,275                        </td>\n",
       "        </tr>\n",
       "    </tbody>\n",
       "        <tr>\n",
       "            <td>15,000 - 19,999    </td> <td>1,036,925                        </td>\n",
       "        </tr>\n",
       "    </tbody>\n",
       "        <tr>\n",
       "            <td>20,000 - 24,999    </td> <td>963,763                          </td>\n",
       "        </tr>\n",
       "    </tbody>\n",
       "        <tr>\n",
       "            <td>25,000 - 29,999    </td> <td>871,472                          </td>\n",
       "        </tr>\n",
       "    </tbody>\n",
       "        <tr>\n",
       "            <td>30,000 - 34,999    </td> <td>852,511                          </td>\n",
       "        </tr>\n",
       "    </tbody>\n",
       "        <tr>\n",
       "            <td>35,000 - 39,999    </td> <td>733,425                          </td>\n",
       "        </tr>\n",
       "    </tbody>\n",
       "        <tr>\n",
       "            <td>40,000 - 44,999    </td> <td>685,742                          </td>\n",
       "        </tr>\n",
       "    </tbody>\n",
       "        <tr>\n",
       "            <td>45,000 - 49,999    </td> <td>574,233                          </td>\n",
       "        </tr>\n",
       "    </tbody>\n",
       "        <tr>\n",
       "            <td>50,000 - 59,999    </td> <td>1,046,406                        </td>\n",
       "        </tr>\n",
       "    </tbody>\n",
       "        <tr>\n",
       "            <td>60,000 - 74,999    </td> <td>1,183,415                        </td>\n",
       "        </tr>\n",
       "    </tbody>\n",
       "        <tr>\n",
       "            <td>75,000 - 99,999    </td> <td>1,255,718                        </td>\n",
       "        </tr>\n",
       "    </tbody>\n",
       "        <tr>\n",
       "            <td>100,000 - 124,999  </td> <td>733,718                          </td>\n",
       "        </tr>\n",
       "    </tbody>\n",
       "        <tr>\n",
       "            <td>125,000 - 149,999  </td> <td>395,609                          </td>\n",
       "        </tr>\n",
       "    </tbody>\n",
       "        <tr>\n",
       "            <td>150,000 - 199,999  </td> <td>357,826                          </td>\n",
       "        </tr>\n",
       "    </tbody>\n",
       "        <tr>\n",
       "            <td>200,000 or more    </td> <td>240,299                          </td>\n",
       "        </tr>\n",
       "    </tbody>\n",
       "</table>"
      ],
      "text/plain": [
       "<IPython.core.display.HTML object>"
      ]
     },
     "metadata": {},
     "output_type": "display_data"
    }
   ],
   "source": [
    "aaincome = incomebyrace.select(0,1)\n",
    "aaincome.show()"
   ]
  },
  {
   "cell_type": "markdown",
   "metadata": {
    "deletable": true,
    "editable": true
   },
   "source": [
    "The following table displays the same information regarding income for all US citizens in aggregate: "
   ]
  },
  {
   "cell_type": "code",
   "execution_count": 5,
   "metadata": {
    "collapsed": false,
    "deletable": true,
    "editable": true,
    "scrolled": true
   },
   "outputs": [
    {
     "data": {
      "text/html": [
       "<table border=\"1\" class=\"dataframe\">\n",
       "    <thead>\n",
       "        <tr>\n",
       "            <th> Income Bracket ($)</th> <th>Total Estimate</th>\n",
       "        </tr>\n",
       "    </thead>\n",
       "    <tbody>\n",
       "        <tr>\n",
       "            <td>Total              </td> <td>116,926,305   </td>\n",
       "        </tr>\n",
       "    </tbody>\n",
       "        <tr>\n",
       "            <td>less than 10,000   </td> <td>8,421,482     </td>\n",
       "        </tr>\n",
       "    </tbody>\n",
       "        <tr>\n",
       "            <td>10,000 -  14,999   </td> <td>6,161,477     </td>\n",
       "        </tr>\n",
       "    </tbody>\n",
       "        <tr>\n",
       "            <td>15,000 -  19,999   </td> <td>6,139,644     </td>\n",
       "        </tr>\n",
       "    </tbody>\n",
       "        <tr>\n",
       "            <td>20,000 -  24,999   </td> <td>6,227,524     </td>\n",
       "        </tr>\n",
       "    </tbody>\n",
       "        <tr>\n",
       "            <td>25,000 -  29,999   </td> <td>5,852,048     </td>\n",
       "        </tr>\n",
       "    </tbody>\n",
       "        <tr>\n",
       "            <td>30,000 -  34,999   </td> <td>5,951,926     </td>\n",
       "        </tr>\n",
       "    </tbody>\n",
       "        <tr>\n",
       "            <td>35,000 -  39,999   </td> <td>5,436,927     </td>\n",
       "        </tr>\n",
       "    </tbody>\n",
       "        <tr>\n",
       "            <td>40,000 -  44,999   </td> <td>5,428,388     </td>\n",
       "        </tr>\n",
       "    </tbody>\n",
       "        <tr>\n",
       "            <td>45,000 -  49,999   </td> <td>4,807,116     </td>\n",
       "        </tr>\n",
       "    </tbody>\n",
       "        <tr>\n",
       "            <td>50,000 -  59,999   </td> <td>9,192,915     </td>\n",
       "        </tr>\n",
       "    </tbody>\n",
       "        <tr>\n",
       "            <td>60,000 -  74,999   </td> <td>11,634,324    </td>\n",
       "        </tr>\n",
       "    </tbody>\n",
       "        <tr>\n",
       "            <td>75,000 -  99,999   </td> <td>14,166,538    </td>\n",
       "        </tr>\n",
       "    </tbody>\n",
       "        <tr>\n",
       "            <td>100,000 -  124,999 </td> <td>9,581,177     </td>\n",
       "        </tr>\n",
       "    </tbody>\n",
       "        <tr>\n",
       "            <td>125,000 -  149,999 </td> <td>5,775,363     </td>\n",
       "        </tr>\n",
       "    </tbody>\n",
       "        <tr>\n",
       "            <td>150,000 -  199,999 </td> <td>6,010,418     </td>\n",
       "        </tr>\n",
       "    </tbody>\n",
       "        <tr>\n",
       "            <td>200,000 or more    </td> <td>6,139,038     </td>\n",
       "        </tr>\n",
       "    </tbody>\n",
       "</table>"
      ],
      "text/plain": [
       "<IPython.core.display.HTML object>"
      ]
     },
     "metadata": {},
     "output_type": "display_data"
    }
   ],
   "source": [
    "income.show()"
   ]
  },
  {
   "cell_type": "code",
   "execution_count": 6,
   "metadata": {
    "collapsed": false,
    "deletable": true,
    "editable": true
   },
   "outputs": [],
   "source": [
    "# Code to remove commas and coerce into integers for manipulation later\n",
    "preincomes = income.column(\"Total Estimate\")\n",
    "total = 0\n",
    "estimate = []\n",
    "for x in preincomes:\n",
    "    n = (int)(x.replace(\",\", \"\"))\n",
    "    total =  (total + (n))\n",
    "    estimate.append(total)    \n",
    "income = Table().with_columns(\n",
    "    \"Income Bracket ($)\", income[' Income Bracket ($)'], \n",
    "    \"Total Estimate\", estimate)"
   ]
  },
  {
   "cell_type": "code",
   "execution_count": 7,
   "metadata": {
    "collapsed": false,
    "deletable": true,
    "editable": true
   },
   "outputs": [
    {
     "data": {
      "text/html": [
       "<table border=\"1\" class=\"dataframe\">\n",
       "    <thead>\n",
       "        <tr>\n",
       "            <th>Educational Attainment </th> <th>Male</th> <th>Female</th> <th>Total Estimate</th> <th>Cumulative Population</th>\n",
       "        </tr>\n",
       "    </thead>\n",
       "    <tbody>\n",
       "        <tr>\n",
       "            <td>Total                                      </td> <td>102,007,511</td> <td>109,455,011</td> <td>211,462,522   </td> <td>211,462,522          </td>\n",
       "        </tr>\n",
       "    </tbody>\n",
       "        <tr>\n",
       "            <td>No schooling completed                     </td> <td>1,433,002  </td> <td>1,541,446  </td> <td>2,974,448     </td> <td>2,974,448            </td>\n",
       "        </tr>\n",
       "    </tbody>\n",
       "        <tr>\n",
       "            <td>Nursery to 4th grade                       </td> <td>828,764    </td> <td>844,074    </td> <td>1,672,838     </td> <td>4,647,286            </td>\n",
       "        </tr>\n",
       "    </tbody>\n",
       "        <tr>\n",
       "            <td>5th and 6th grade                          </td> <td>1,744,550  </td> <td>1,706,996  </td> <td>3,451,546     </td> <td>8,098,832            </td>\n",
       "        </tr>\n",
       "    </tbody>\n",
       "        <tr>\n",
       "            <td>7th and 8th grade                          </td> <td>1,997,412  </td> <td>1,997,625  </td> <td>3,995,037     </td> <td>12,093,869           </td>\n",
       "        </tr>\n",
       "    </tbody>\n",
       "        <tr>\n",
       "            <td>9th grade                                  </td> <td>1,814,562  </td> <td>1,682,023  </td> <td>3,496,585     </td> <td>15,590,454           </td>\n",
       "        </tr>\n",
       "    </tbody>\n",
       "        <tr>\n",
       "            <td>10th grade                                 </td> <td>2,120,597  </td> <td>2,026,065  </td> <td>4,146,662     </td> <td>19,737,116           </td>\n",
       "        </tr>\n",
       "    </tbody>\n",
       "        <tr>\n",
       "            <td>11th grade                                 </td> <td>2,391,837  </td> <td>2,306,193  </td> <td>4,698,030     </td> <td>24,435,146           </td>\n",
       "        </tr>\n",
       "    </tbody>\n",
       "        <tr>\n",
       "            <td>12th grade, no diploma                     </td> <td>1,991,470  </td> <td>1,802,478  </td> <td>3,793,948     </td> <td>28,229,094           </td>\n",
       "        </tr>\n",
       "    </tbody>\n",
       "        <tr>\n",
       "            <td>High school graduate (includes equivalency)</td> <td>28,952,834 </td> <td>29,769,694 </td> <td>58,722,528    </td> <td>86,951,622           </td>\n",
       "        </tr>\n",
       "    </tbody>\n",
       "        <tr>\n",
       "            <td>Some college, less than 1 year             </td> <td>6,101,918  </td> <td>7,111,708  </td> <td>13,213,626    </td> <td>100,165,248          </td>\n",
       "        </tr>\n",
       "    </tbody>\n",
       "        <tr>\n",
       "            <td>Some college, 1 or more years, no degree   </td> <td>15,019,016 </td> <td>16,296,519 </td> <td>31,315,535    </td> <td>131,480,783          </td>\n",
       "        </tr>\n",
       "    </tbody>\n",
       "        <tr>\n",
       "            <td>Associate's degree                         </td> <td>7,300,637  </td> <td>9,728,830  </td> <td>17,029,467    </td> <td>148,510,250          </td>\n",
       "        </tr>\n",
       "    </tbody>\n",
       "        <tr>\n",
       "            <td>Bachelor's degree                          </td> <td>18,721,504 </td> <td>20,444,543 </td> <td>39,166,047    </td> <td>187,676,297          </td>\n",
       "        </tr>\n",
       "    </tbody>\n",
       "        <tr>\n",
       "            <td>Master's degree                            </td> <td>7,470,111  </td> <td>9,370,798  </td> <td>16,840,909    </td> <td>204,517,206          </td>\n",
       "        </tr>\n",
       "    </tbody>\n",
       "        <tr>\n",
       "            <td>Professional school degree                 </td> <td>2,442,932  </td> <td>1,718,148  </td> <td>4,161,080     </td> <td>208,678,286          </td>\n",
       "        </tr>\n",
       "    </tbody>\n",
       "        <tr>\n",
       "            <td>Doctorate degree                           </td> <td>1,676,365  </td> <td>1,107,871  </td> <td>2,784,236     </td> <td>211,462,522          </td>\n",
       "        </tr>\n",
       "    </tbody>\n",
       "</table>"
      ],
      "text/plain": [
       "<IPython.core.display.HTML object>"
      ]
     },
     "metadata": {},
     "output_type": "display_data"
    }
   ],
   "source": [
    "educ.show()"
   ]
  },
  {
   "cell_type": "code",
   "execution_count": 8,
   "metadata": {
    "collapsed": false,
    "deletable": true,
    "editable": true
   },
   "outputs": [],
   "source": [
    "# Code to remove commas and coerce into integers for manipulation later\n",
    "preeduc = educ.column(\"Total Estimate\")\n",
    "total = 0\n",
    "estimate = []\n",
    "for i,x in enumerate(preeduc):\n",
    "    n = (int)(x.replace(\",\", \"\"))\n",
    "    if i > 0:\n",
    "        total =  (total + (n))\n",
    "        estimate.append(total) \n",
    "    else:\n",
    "        estimate.append(n)\n",
    "\n",
    "educ = Table().with_columns(\n",
    "    \"Educational Attainment\", educ['Educational Attainment '], \n",
    "    \"Total Estimate\", estimate,\n",
    "    \"Cumulative Population\", educ['Cumulative Population'])"
   ]
  },
  {
   "cell_type": "code",
   "execution_count": 9,
   "metadata": {
    "collapsed": false,
    "deletable": true,
    "editable": true
   },
   "outputs": [
    {
     "data": {
      "text/html": [
       "<table border=\"1\" class=\"dataframe\">\n",
       "    <thead>\n",
       "        <tr>\n",
       "            <th>Educational Attainment</th> <th>Total Estimate</th> <th>Cumulative Population</th>\n",
       "        </tr>\n",
       "    </thead>\n",
       "    <tbody>\n",
       "        <tr>\n",
       "            <td>Total                                      </td> <td>211462522     </td> <td>211,462,522          </td>\n",
       "        </tr>\n",
       "    </tbody>\n",
       "        <tr>\n",
       "            <td>No schooling completed                     </td> <td>2974448       </td> <td>2,974,448            </td>\n",
       "        </tr>\n",
       "    </tbody>\n",
       "        <tr>\n",
       "            <td>Nursery to 4th grade                       </td> <td>4647286       </td> <td>4,647,286            </td>\n",
       "        </tr>\n",
       "    </tbody>\n",
       "        <tr>\n",
       "            <td>5th and 6th grade                          </td> <td>8098832       </td> <td>8,098,832            </td>\n",
       "        </tr>\n",
       "    </tbody>\n",
       "        <tr>\n",
       "            <td>7th and 8th grade                          </td> <td>12093869      </td> <td>12,093,869           </td>\n",
       "        </tr>\n",
       "    </tbody>\n",
       "        <tr>\n",
       "            <td>9th grade                                  </td> <td>15590454      </td> <td>15,590,454           </td>\n",
       "        </tr>\n",
       "    </tbody>\n",
       "        <tr>\n",
       "            <td>10th grade                                 </td> <td>19737116      </td> <td>19,737,116           </td>\n",
       "        </tr>\n",
       "    </tbody>\n",
       "        <tr>\n",
       "            <td>11th grade                                 </td> <td>24435146      </td> <td>24,435,146           </td>\n",
       "        </tr>\n",
       "    </tbody>\n",
       "        <tr>\n",
       "            <td>12th grade, no diploma                     </td> <td>28229094      </td> <td>28,229,094           </td>\n",
       "        </tr>\n",
       "    </tbody>\n",
       "        <tr>\n",
       "            <td>High school graduate (includes equivalency)</td> <td>86951622      </td> <td>86,951,622           </td>\n",
       "        </tr>\n",
       "    </tbody>\n",
       "        <tr>\n",
       "            <td>Some college, less than 1 year             </td> <td>100165248     </td> <td>100,165,248          </td>\n",
       "        </tr>\n",
       "    </tbody>\n",
       "        <tr>\n",
       "            <td>Some college, 1 or more years, no degree   </td> <td>131480783     </td> <td>131,480,783          </td>\n",
       "        </tr>\n",
       "    </tbody>\n",
       "        <tr>\n",
       "            <td>Associate's degree                         </td> <td>148510250     </td> <td>148,510,250          </td>\n",
       "        </tr>\n",
       "    </tbody>\n",
       "        <tr>\n",
       "            <td>Bachelor's degree                          </td> <td>187676297     </td> <td>187,676,297          </td>\n",
       "        </tr>\n",
       "    </tbody>\n",
       "        <tr>\n",
       "            <td>Master's degree                            </td> <td>204517206     </td> <td>204,517,206          </td>\n",
       "        </tr>\n",
       "    </tbody>\n",
       "        <tr>\n",
       "            <td>Professional school degree                 </td> <td>208678286     </td> <td>208,678,286          </td>\n",
       "        </tr>\n",
       "    </tbody>\n",
       "        <tr>\n",
       "            <td>Doctorate degree                           </td> <td>211462522     </td> <td>211,462,522          </td>\n",
       "        </tr>\n",
       "    </tbody>\n",
       "</table>"
      ],
      "text/plain": [
       "<IPython.core.display.HTML object>"
      ]
     },
     "metadata": {},
     "output_type": "display_data"
    }
   ],
   "source": [
    "educ.show()"
   ]
  },
  {
   "cell_type": "code",
   "execution_count": 10,
   "metadata": {
    "collapsed": false,
    "deletable": true,
    "editable": true
   },
   "outputs": [
    {
     "data": {
      "text/plain": [
       "105731261.0"
      ]
     },
     "execution_count": 10,
     "metadata": {},
     "output_type": "execute_result"
    }
   ],
   "source": [
    "# Calculate the median years of education for the total US population\n",
    "educ['Total Estimate'][0]/2"
   ]
  },
  {
   "cell_type": "markdown",
   "metadata": {
    "collapsed": true,
    "deletable": true,
    "editable": true
   },
   "source": [
    "Which population bracket does this fall under?\n",
    "\n",
    "If we wanted to roughly quantify median years of education it falls between \"Some college, less than 1 year\" and \"Some college, 1 or more years, no degree\" is approximately 12.5\n"
   ]
  },
  {
   "cell_type": "code",
   "execution_count": 11,
   "metadata": {
    "collapsed": true,
    "deletable": true,
    "editable": true
   },
   "outputs": [],
   "source": [
    "#Assign this to the variable 'mededuc'\n",
    "mededuc = 12.5"
   ]
  },
  {
   "cell_type": "markdown",
   "metadata": {
    "deletable": true,
    "editable": true
   },
   "source": [
    "We have already crunched some numbers for you, to get the following data:\n",
    "\n",
    "<li>median income for African Americans: $37,500</li>\n",
    "<li>median years of school for African Americans: 13 years of school</li>\n",
    "\n",
    "<li>median income for all US citizens: $55,000</li>\n",
    "<li>median years of school for all US citizens: 12.5 years of school</li>\n",
    "\n",
    "Source: https://factfinder.census.gov/faces/tableservices/jsf/pages/productview.xhtml?pid=ACS_15_5YR_B15002&prodType=table\n",
    "\n",
    "From here we're going to use weightings of $p_i$ = 0.8 and $p_e$ 0.2 to calculate our SES. Recall that our formula for SES is:\n",
    "\n",
    "$p_i * \\text{income score} + p_e * \\text{years of education}$\n",
    "\n",
    "Recall income scores from Table 1: Income Scores\n",
    "\n",
    "\n",
    "<table>\n",
    "  <tr>\n",
    "    <th>Income Score</th>\n",
    "    <th>Income Bracket (\\$) </th>\n",
    "  </tr>\n",
    "  <tr>\n",
    "    <td>1</td>\n",
    "    <td>less than \\$10,000</td>\n",
    "  </tr>\n",
    " <tr>\n",
    "    <td>2</td>\n",
    "    <td>\\$15,000 - \\$19,999</td>\n",
    "  </tr>\n",
    "  <tr>\n",
    "    <td>3</td>\n",
    "    <td>\\$20,000 - \\$24,999</td>\n",
    "  </tr>\n",
    "  <tr>\n",
    "    <td>4</td>\n",
    "    <td>\\$25,000 - \\$29,999</td>\n",
    "  </tr>\n",
    "  <tr>\n",
    "    <td>5</td>\n",
    "    <td>\\$30,000 - \\$34,999</td>\n",
    "  </tr>\n",
    "    <tr>\n",
    "    <td>6</td>\n",
    "    <td>\\$35,000 - \\$39,999</td>\n",
    "  </tr>\n",
    "    <tr>\n",
    "    <td>7</td>\n",
    "    <td>\\$40,000 - \\$44,999</td>\n",
    "  </tr>\n",
    "    <tr>\n",
    "    <td>8</td>\n",
    "    <td>\\$45,000 - \\$49,999</td>\n",
    "  </tr>\n",
    "    <tr>\n",
    "    <td>9</td>\n",
    "    <td>\\$50,000 - \\$59,999</td>\n",
    "  </tr>\n",
    "   <tr>\n",
    "    <td>10</td>\n",
    "    <td>\\$60,000 - \\$74,999</td>\n",
    "  </tr> \n",
    "   <tr>\n",
    "    <td>11</td>\n",
    "    <td>\\$75,000 - \\$99,999</td>\n",
    "  </tr>   \n",
    "   <tr>\n",
    "    <td>12</td>\n",
    "    <td>\\$100,000 - \\$124,999</td>\n",
    "  </tr> \n",
    "   <tr>\n",
    "    <td>13</td>\n",
    "    <td>\\$125,000 - \\$149,999</td>\n",
    "  </tr> \n",
    "   <tr>\n",
    "    <td>14</td>\n",
    "    <td>\\$150,000 - \\$199,999</td>\n",
    "  </tr>\n",
    "   <tr>\n",
    "    <td>15</td>\n",
    "    <td>\\$200,000 or more</td>\n",
    "  </tr> \n",
    "</table>\n",
    "\n",
    "Using the information above, find the SES for a median African American individual. Enter this value in the cell below."
   ]
  },
  {
   "cell_type": "code",
   "execution_count": null,
   "metadata": {
    "collapsed": false,
    "deletable": true,
    "editable": true
   },
   "outputs": [],
   "source": []
  },
  {
   "cell_type": "markdown",
   "metadata": {
    "deletable": true,
    "editable": true
   },
   "source": [
    "Find the SES for the median US citizen. Enter this value in the cell below."
   ]
  },
  {
   "cell_type": "code",
   "execution_count": null,
   "metadata": {
    "collapsed": true,
    "deletable": true,
    "editable": true
   },
   "outputs": [],
   "source": []
  },
  {
   "cell_type": "markdown",
   "metadata": {
    "deletable": true,
    "editable": true
   },
   "source": [
    "Find SES (income). Recall the formula for SES (income):\n",
    "\n",
    "$p_i * \\text{income score} + p_e * \\text{years of education}$"
   ]
  },
  {
   "cell_type": "code",
   "execution_count": null,
   "metadata": {
    "collapsed": true,
    "deletable": true,
    "editable": true
   },
   "outputs": [],
   "source": []
  },
  {
   "cell_type": "markdown",
   "metadata": {
    "deletable": true,
    "editable": true
   },
   "source": [
    "We will now explore how the value of SES that we got above changes when we change the leading factor for SES from income to wealth. We will measure wealth through net worth data displayed below from the 2013 Census. "
   ]
  },
  {
   "cell_type": "code",
   "execution_count": 12,
   "metadata": {
    "collapsed": false,
    "deletable": true,
    "editable": true
   },
   "outputs": [
    {
     "data": {
      "text/html": [
       "<table border=\"1\" class=\"dataframe\">\n",
       "    <thead>\n",
       "        <tr>\n",
       "            <th>Characteristic                          </th> <th>Net Worth</th>\n",
       "        </tr>\n",
       "    </thead>\n",
       "    <tbody>\n",
       "        <tr>\n",
       "            <td>Total                                    </td> <td>80,039   </td>\n",
       "        </tr>\n",
       "    </tbody>\n",
       "        <tr>\n",
       "            <td>White alone                              </td> <td>103,963  </td>\n",
       "        </tr>\n",
       "    </tbody>\n",
       "        <tr>\n",
       "            <td>White alone, not Hispanic                </td> <td>132,483  </td>\n",
       "        </tr>\n",
       "    </tbody>\n",
       "        <tr>\n",
       "            <td>Black alone                              </td> <td>9,211    </td>\n",
       "        </tr>\n",
       "    </tbody>\n",
       "        <tr>\n",
       "            <td>Asian alone                              </td> <td>112,250  </td>\n",
       "        </tr>\n",
       "    </tbody>\n",
       "        <tr>\n",
       "            <td>Other (residual)                         </td> <td>13,703   </td>\n",
       "        </tr>\n",
       "    </tbody>\n",
       "        <tr>\n",
       "            <td>Hispanic origin (any race)               </td> <td>12,460   </td>\n",
       "        </tr>\n",
       "    </tbody>\n",
       "        <tr>\n",
       "            <td>Not of Hispanic origin                   </td> <td>99,394   </td>\n",
       "        </tr>\n",
       "    </tbody>\n",
       "</table>"
      ],
      "text/plain": [
       "<IPython.core.display.HTML object>"
      ]
     },
     "metadata": {},
     "output_type": "display_data"
    }
   ],
   "source": [
    "wealthbyrace.show()"
   ]
  },
  {
   "cell_type": "markdown",
   "metadata": {
    "deletable": true,
    "editable": true
   },
   "source": [
    "Similar to how we assigned an income score to each income bracket above, we will assign a wealth score to each wealth bracket. The wealth score table is displayed below:"
   ]
  },
  {
   "cell_type": "code",
   "execution_count": 13,
   "metadata": {
    "collapsed": false,
    "deletable": true,
    "editable": true
   },
   "outputs": [
    {
     "data": {
      "text/html": [
       "<table border=\"1\" class=\"dataframe\">\n",
       "    <thead>\n",
       "        <tr>\n",
       "            <th>Wealth Score</th> <th>Wealth Bracket</th>\n",
       "        </tr>\n",
       "    </thead>\n",
       "    <tbody>\n",
       "        <tr>\n",
       "            <td>1           </td> <td>$0 - $10000      </td>\n",
       "        </tr>\n",
       "    </tbody>\n",
       "        <tr>\n",
       "            <td>2           </td> <td>$10001 - $20000  </td>\n",
       "        </tr>\n",
       "    </tbody>\n",
       "        <tr>\n",
       "            <td>3           </td> <td>$20001 - $30000  </td>\n",
       "        </tr>\n",
       "    </tbody>\n",
       "        <tr>\n",
       "            <td>4           </td> <td>$30001 - $40000  </td>\n",
       "        </tr>\n",
       "    </tbody>\n",
       "        <tr>\n",
       "            <td>5           </td> <td>$40001 - $50000  </td>\n",
       "        </tr>\n",
       "    </tbody>\n",
       "        <tr>\n",
       "            <td>6           </td> <td>$50001 - $60000  </td>\n",
       "        </tr>\n",
       "    </tbody>\n",
       "        <tr>\n",
       "            <td>7           </td> <td>$60001 - $70000  </td>\n",
       "        </tr>\n",
       "    </tbody>\n",
       "        <tr>\n",
       "            <td>8           </td> <td>$70001 - $80000  </td>\n",
       "        </tr>\n",
       "    </tbody>\n",
       "        <tr>\n",
       "            <td>9           </td> <td>$80001 - $90000  </td>\n",
       "        </tr>\n",
       "    </tbody>\n",
       "        <tr>\n",
       "            <td>10          </td> <td>$90001 - $100000 </td>\n",
       "        </tr>\n",
       "    </tbody>\n",
       "        <tr>\n",
       "            <td>11          </td> <td>$100001 - $110000</td>\n",
       "        </tr>\n",
       "    </tbody>\n",
       "        <tr>\n",
       "            <td>12          </td> <td>$110001 - $120000</td>\n",
       "        </tr>\n",
       "    </tbody>\n",
       "        <tr>\n",
       "            <td>13          </td> <td>$120001 - $130000</td>\n",
       "        </tr>\n",
       "    </tbody>\n",
       "        <tr>\n",
       "            <td>14          </td> <td>$130001 - $140000</td>\n",
       "        </tr>\n",
       "    </tbody>\n",
       "</table>"
      ],
      "text/plain": [
       "<IPython.core.display.HTML object>"
      ]
     },
     "metadata": {},
     "output_type": "display_data"
    }
   ],
   "source": [
    "wealthscoretable.show()"
   ]
  },
  {
   "cell_type": "markdown",
   "metadata": {
    "deletable": true,
    "editable": true
   },
   "source": [
    "Let us now calculate SES wealth using the new formula using the wealth score as defined below: \n",
    "\n",
    "Recall the formula: \n",
    "<br>\n",
    "<br>\n",
    "$p_w * \\text {wealth score} + p_e * \\text {years of education}$, \n",
    "<br>\n",
    "<br>\n",
    "where $p_w$ and $p_e$ retain the same weights as before, 0.8 and 0.2 respectively.\n",
    "\n",
    "Enter in your value for SES (wealth) for an average US citizen (total wealth) and an average African American below."
   ]
  },
  {
   "cell_type": "code",
   "execution_count": null,
   "metadata": {
    "collapsed": true,
    "deletable": true,
    "editable": true
   },
   "outputs": [],
   "source": []
  },
  {
   "cell_type": "markdown",
   "metadata": {
    "deletable": true,
    "editable": true
   },
   "source": [
    "Compare your values for SES (income) and SES (wealth) for both the average US citizen and the average African American. What are the implications of having different SES values?"
   ]
  },
  {
   "cell_type": "code",
   "execution_count": null,
   "metadata": {
    "collapsed": true,
    "deletable": true,
    "editable": true
   },
   "outputs": [],
   "source": []
  },
  {
   "cell_type": "markdown",
   "metadata": {
    "deletable": true,
    "editable": true
   },
   "source": [
    "# Changing SES Weights\n",
    "\n",
    "Moving foward, we will only be using SES (income). Anytime in the later text in which this lab references, we are referring to SES (income), defined as:\n",
    "<br>\n",
    "<br>\n",
    "$p_i * \\text{income score} + p_e * \\text{years of education}$, \n",
    "<br>\n",
    "<br>\n",
    "Up to this point, we have maintained weights of $p_i$ = 0.8 and $p_e$ = 0.2. These weights are arbitrary numbers that sum up to 1.0 chosen by how much importance we assign to a factor in our SES index value. In this case, we say that 80% of our SES index is determined by income and 20% is determined by years of education.\n",
    "\n",
    "We will now experiment with toggling between different weightings for SES. \n",
    "\n",
    "We are going to take the case of Jim: an African-American with an income of $35,000$ and 16 years of education. First we will compute the ratio of $\\displaystyle \\frac {\\text{individual SES}} {\\text{median US SES}}$, and then we will compute $\\displaystyle \\frac {\\text{individual SES}} {\\text{median African American SES}}$.\n",
    "\n",
    "\n",
    "Recall the information that was provided earlier:\n",
    "\n",
    "median income for African Americans: $37,500\n",
    "<br>\n",
    "median years of school for African Americans: 13 years of school\n",
    "\n",
    "median income for all US citizens: $55,000\n",
    "<br>\n",
    "median years of school for all US citizens: 12.5 years of school"
   ]
  },
  {
   "cell_type": "code",
   "execution_count": 14,
   "metadata": {
    "collapsed": false,
    "deletable": true,
    "editable": true
   },
   "outputs": [
    {
     "data": {
      "text/plain": [
       "10.0"
      ]
     },
     "metadata": {},
     "output_type": "display_data"
    }
   ],
   "source": [
    "from IPython.display import display\n",
    "from ipywidgets import interact, interactive, fixed, interact_manual\n",
    "\n",
    "#Enter value for income median\n",
    "african_income_median = 37500\n",
    "african_income_median_score = 6\n",
    "\n",
    "#Enter value for education median\n",
    "african_education_median = 13\n",
    "\n",
    "def calculateSES(p_i, income_median_score, education_median):\n",
    "    p_e = 100 - p_i\n",
    "    return p_i* 0.01 * income_median_score + p_e * 0.01 * education_median\n",
    "\n",
    "interact(calculateSES, p_i = (0, 100), income_median_score = (1, 15), education_median = (0, 24));\n",
    "\n",
    "#Source: http://ipywidgets.readthedocs.io/en/latest/examples/Using%20Interact.html "
   ]
  },
  {
   "cell_type": "markdown",
   "metadata": {
    "collapsed": true,
    "deletable": true,
    "editable": true
   },
   "source": [
    "Use the slider above. (If you don't see three sliders, make sure you have run the code cell.) The numbers are in percent, so 80 on the slider corresponds to 80% for $p_i$. Recall that $p_i + p_e = 1$ so automatically this means that $p_e$ = 20%. Compute his $\\displaystyle \\frac {\\text{individual SES}} {\\text{median US SES}}$ using weightings of 0.8 and 0.2. Recall Table 1: Income Scores at the top of this lab. Is he overperforming or underperforming?"
   ]
  },
  {
   "cell_type": "code",
   "execution_count": null,
   "metadata": {
    "collapsed": true,
    "deletable": true,
    "editable": true
   },
   "outputs": [],
   "source": []
  },
  {
   "cell_type": "markdown",
   "metadata": {
    "deletable": true,
    "editable": true
   },
   "source": [
    "Compute his $\\displaystyle \\frac {\\text{individual SES}} {\\text{median African American SES}}$. Is he overperforming or underperforming?"
   ]
  },
  {
   "cell_type": "code",
   "execution_count": null,
   "metadata": {
    "collapsed": true,
    "deletable": true,
    "editable": true
   },
   "outputs": [],
   "source": []
  },
  {
   "cell_type": "markdown",
   "metadata": {
    "deletable": true,
    "editable": true
   },
   "source": [
    "Now lets change the weights to 0.5 and 0.5. Compute his $\\displaystyle \\frac {\\text{individual SES}} {\\text{median US SES}}$. Is he overperforming or underperforming?"
   ]
  },
  {
   "cell_type": "code",
   "execution_count": null,
   "metadata": {
    "collapsed": true,
    "deletable": true,
    "editable": true
   },
   "outputs": [],
   "source": []
  },
  {
   "cell_type": "markdown",
   "metadata": {
    "deletable": true,
    "editable": true
   },
   "source": [
    "Compute his $\\displaystyle \\frac {\\text{individual SES}} {\\text{median African American SES}}$ with weights of 0.5 and 0.5. Is he overperforming or underperforming?"
   ]
  },
  {
   "cell_type": "code",
   "execution_count": null,
   "metadata": {
    "collapsed": true,
    "deletable": true,
    "editable": true
   },
   "outputs": [],
   "source": []
  },
  {
   "cell_type": "markdown",
   "metadata": {
    "deletable": true,
    "editable": true
   },
   "source": [
    "How does the importance that we place on certain factors affect Jim's socio-economic status?"
   ]
  },
  {
   "cell_type": "code",
   "execution_count": null,
   "metadata": {
    "collapsed": true,
    "deletable": true,
    "editable": true
   },
   "outputs": [],
   "source": []
  },
  {
   "cell_type": "markdown",
   "metadata": {
    "deletable": true,
    "editable": true
   },
   "source": [
    "Let's change the weightings further: 0.2 for $p_i$ and 0.8 for $p_e$. Calculate the median SES for African Americans."
   ]
  },
  {
   "cell_type": "code",
   "execution_count": null,
   "metadata": {
    "collapsed": true,
    "deletable": true,
    "editable": true
   },
   "outputs": [],
   "source": []
  },
  {
   "cell_type": "markdown",
   "metadata": {
    "deletable": true,
    "editable": true
   },
   "source": [
    "Calculate the median SES for all US citizens using the same weights of 0.2 and  0.8."
   ]
  },
  {
   "cell_type": "code",
   "execution_count": null,
   "metadata": {
    "collapsed": true,
    "deletable": true,
    "editable": true
   },
   "outputs": [],
   "source": []
  },
  {
   "cell_type": "markdown",
   "metadata": {
    "deletable": true,
    "editable": true
   },
   "source": [
    "Are African Americans overperforming or underperforming in relation to all US citizens?"
   ]
  },
  {
   "cell_type": "code",
   "execution_count": null,
   "metadata": {
    "collapsed": true,
    "deletable": true,
    "editable": true
   },
   "outputs": [],
   "source": []
  },
  {
   "cell_type": "markdown",
   "metadata": {
    "deletable": true,
    "editable": true
   },
   "source": [
    "How does this compare to values that you found previously with weights of 0.8 $p_i$ and 0.2 $p_e$?"
   ]
  },
  {
   "cell_type": "code",
   "execution_count": null,
   "metadata": {
    "collapsed": true,
    "deletable": true,
    "editable": true
   },
   "outputs": [],
   "source": []
  },
  {
   "cell_type": "markdown",
   "metadata": {
    "deletable": true,
    "editable": true
   },
   "source": [
    "Suppose there was a public policy initiative to provide increased funding to households of low socio-economic status. The board of this policy is debating if they should focus specially on publicizing this initiative to a certain African American community. How would their decision change based on the SES values that we found?"
   ]
  },
  {
   "cell_type": "code",
   "execution_count": null,
   "metadata": {
    "collapsed": true,
    "deletable": true,
    "editable": true
   },
   "outputs": [],
   "source": []
  },
  {
   "cell_type": "markdown",
   "metadata": {
    "deletable": true,
    "editable": true
   },
   "source": [
    "Write up for each of the following:\n",
    "\n",
    "1. What are some other factors that can influence SES. How would you measure them?\n",
    "\n",
    "2. What are some other aspects other than test scores and school performance that can be influenced by SES. How would you measure them?"
   ]
  },
  {
   "cell_type": "code",
   "execution_count": null,
   "metadata": {
    "collapsed": true,
    "deletable": true,
    "editable": true
   },
   "outputs": [],
   "source": []
  },
  {
   "cell_type": "markdown",
   "metadata": {
    "deletable": true,
    "editable": true
   },
   "source": [
    "Data science involves making decisions like assigning weights to factors to determine SES indices. These decisions are often ambiguous and do not readily provide a clear answer, but the insights and the conclusions that we draw can influence public policy decisions. One important objective of this lab was to demonstrate that data science isn't always clear cut and involves making judgment calls as well."
   ]
  },
  {
   "cell_type": "markdown",
   "metadata": {
    "deletable": true,
    "editable": true
   },
   "source": [
    "## 2.3 Income Inequality benchmarks- the Lorenz Curve & Gini Coefficent\n",
    "\n",
    "![alt text](LorenzCurve.jpg \"Lorenz Curve\")\n",
    "\n",
    "Pictured above is a standard Lorenz Curve. We can depict the concentration of wealth using two interlinked methods: the Lorenz Curve and the Gini Coefficient.  The Lorenz curve is a graphical illustration of this and the Gini Coefficient is a numeric representation (a ratio).  \n",
    "The Lorenz curve lines up the population from poorest to richest on the x axis, and then the y-axis graphs cumulative income of all the people poorer than the one on the x axis.  To make these comparable across countries, these are translated into percentages.  \n",
    "(0,0) and (100,100) are always the end points of the curve: 0% of the people own nothing while 100% of the people own 100% of the wealth.  \n",
    "\n",
    "Let's line up our individual income earners to look at inequality just among income earners.  Let's start with a fresh table, with the column of the income.  Let's put the table of incomes in order from lowest to highest.  Then let's make a new column, that adds up all incomes above the row.  Here's an example:\n",
    "\n",
    "<style type=\"text/css\">\n",
    ".tg  {border-collapse:collapse;border-spacing:0;}\n",
    ".tg td{font-family:Arial, sans-serif;font-size:14px;padding:10px 5px;border-style:solid;border-width:1px;overflow:hidden;word-break:normal;}\n",
    ".tg th{font-family:Arial, sans-serif;font-size:14px;font-weight:normal;padding:10px 5px;border-style:solid;border-width:1px;overflow:hidden;word-break:normal;}\n",
    ".tg .tg-baqh{text-align:center;vertical-align:top}\n",
    "</style>\n",
    "<table class=\"tg\">\n",
    "  <tr>\n",
    "    <th class=\"tg-baqh\">Income</th>\n",
    "    <th class=\"tg-baqh\">Cumulative Income</th>\n",
    "  </tr>\n",
    "  <tr>\n",
    "    <td class=\"tg-baqh\">3</td>\n",
    "    <td class=\"tg-baqh\">3</td>\n",
    "  </tr>\n",
    "  <tr>\n",
    "    <td class=\"tg-baqh\">3</td>\n",
    "    <td class=\"tg-baqh\">6</td>\n",
    "  </tr>\n",
    "  <tr>\n",
    "    <td class=\"tg-baqh\">4</td>\n",
    "    <td class=\"tg-baqh\">10</td>\n",
    "  </tr>\n",
    "  <tr>\n",
    "    <td class=\"tg-baqh\">7</td>\n",
    "    <td class=\"tg-baqh\">17</td>\n",
    "  </tr>\n",
    "  <tr>\n",
    "    <td class=\"tg-baqh\">8</td>\n",
    "    <td class=\"tg-baqh\">26</td>\n",
    "  </tr>\n",
    "</table>"
   ]
  },
  {
   "cell_type": "code",
   "execution_count": 15,
   "metadata": {
    "collapsed": false,
    "deletable": true,
    "editable": true
   },
   "outputs": [
    {
     "data": {
      "text/html": [
       "<table border=\"1\" class=\"dataframe\">\n",
       "    <thead>\n",
       "        <tr>\n",
       "            <th>Income Bracket (less than)</th> <th>Total Estimate</th>\n",
       "        </tr>\n",
       "    </thead>\n",
       "    <tbody>\n",
       "        <tr>\n",
       "            <td>10,000                    </td> <td>8,421,482     </td>\n",
       "        </tr>\n",
       "    </tbody>\n",
       "        <tr>\n",
       "            <td>14,999                    </td> <td>6,161,477     </td>\n",
       "        </tr>\n",
       "    </tbody>\n",
       "        <tr>\n",
       "            <td>19,999                    </td> <td>6,139,644     </td>\n",
       "        </tr>\n",
       "    </tbody>\n",
       "        <tr>\n",
       "            <td>24,999                    </td> <td>6,227,524     </td>\n",
       "        </tr>\n",
       "    </tbody>\n",
       "        <tr>\n",
       "            <td>29,999                    </td> <td>5,852,048     </td>\n",
       "        </tr>\n",
       "    </tbody>\n",
       "        <tr>\n",
       "            <td>34,999                    </td> <td>5,951,926     </td>\n",
       "        </tr>\n",
       "    </tbody>\n",
       "        <tr>\n",
       "            <td>39,999                    </td> <td>5,436,927     </td>\n",
       "        </tr>\n",
       "    </tbody>\n",
       "        <tr>\n",
       "            <td>44,999                    </td> <td>5,428,388     </td>\n",
       "        </tr>\n",
       "    </tbody>\n",
       "        <tr>\n",
       "            <td>49,999                    </td> <td>4,807,116     </td>\n",
       "        </tr>\n",
       "    </tbody>\n",
       "        <tr>\n",
       "            <td>59,999                    </td> <td>9,192,915     </td>\n",
       "        </tr>\n",
       "    </tbody>\n",
       "        <tr>\n",
       "            <td>74,999                    </td> <td>11,634,324    </td>\n",
       "        </tr>\n",
       "    </tbody>\n",
       "        <tr>\n",
       "            <td>99,999                    </td> <td>14,166,538    </td>\n",
       "        </tr>\n",
       "    </tbody>\n",
       "        <tr>\n",
       "            <td>124,999                   </td> <td>9,581,177     </td>\n",
       "        </tr>\n",
       "    </tbody>\n",
       "        <tr>\n",
       "            <td>149,999                   </td> <td>5,775,363     </td>\n",
       "        </tr>\n",
       "    </tbody>\n",
       "        <tr>\n",
       "            <td>199,999                   </td> <td>6,010,418     </td>\n",
       "        </tr>\n",
       "    </tbody>\n",
       "        <tr>\n",
       "            <td>200,000                   </td> <td>6,139,038     </td>\n",
       "        </tr>\n",
       "    </tbody>\n",
       "</table>"
      ],
      "text/plain": [
       "<IPython.core.display.HTML object>"
      ]
     },
     "metadata": {},
     "output_type": "display_data"
    }
   ],
   "source": [
    "# Total US\n",
    "lorenzdata.show()"
   ]
  },
  {
   "cell_type": "markdown",
   "metadata": {
    "deletable": true,
    "editable": true
   },
   "source": [
    "The left column shows the upper bound of each income bracket, and the right column shows the number of people that fall in that bracket. We want to construct a table of income and cumulative income. "
   ]
  },
  {
   "cell_type": "code",
   "execution_count": 16,
   "metadata": {
    "collapsed": false,
    "deletable": true,
    "editable": true
   },
   "outputs": [
    {
     "data": {
      "text/html": [
       "<table border=\"1\" class=\"dataframe\">\n",
       "    <thead>\n",
       "        <tr>\n",
       "            <th>Income</th> <th>Cumulative Incomes</th>\n",
       "        </tr>\n",
       "    </thead>\n",
       "    <tbody>\n",
       "        <tr>\n",
       "            <td>10,000 </td> <td>10000             </td>\n",
       "        </tr>\n",
       "    </tbody>\n",
       "        <tr>\n",
       "            <td>14,999 </td> <td>24999             </td>\n",
       "        </tr>\n",
       "    </tbody>\n",
       "        <tr>\n",
       "            <td>19,999 </td> <td>44998             </td>\n",
       "        </tr>\n",
       "    </tbody>\n",
       "        <tr>\n",
       "            <td>24,999 </td> <td>69997             </td>\n",
       "        </tr>\n",
       "    </tbody>\n",
       "        <tr>\n",
       "            <td>29,999 </td> <td>99996             </td>\n",
       "        </tr>\n",
       "    </tbody>\n",
       "        <tr>\n",
       "            <td>34,999 </td> <td>134995            </td>\n",
       "        </tr>\n",
       "    </tbody>\n",
       "        <tr>\n",
       "            <td>39,999 </td> <td>174994            </td>\n",
       "        </tr>\n",
       "    </tbody>\n",
       "        <tr>\n",
       "            <td>44,999 </td> <td>219993            </td>\n",
       "        </tr>\n",
       "    </tbody>\n",
       "        <tr>\n",
       "            <td>49,999 </td> <td>269992            </td>\n",
       "        </tr>\n",
       "    </tbody>\n",
       "        <tr>\n",
       "            <td>59,999 </td> <td>329991            </td>\n",
       "        </tr>\n",
       "    </tbody>\n",
       "        <tr>\n",
       "            <td>74,999 </td> <td>404990            </td>\n",
       "        </tr>\n",
       "    </tbody>\n",
       "        <tr>\n",
       "            <td>99,999 </td> <td>504989            </td>\n",
       "        </tr>\n",
       "    </tbody>\n",
       "        <tr>\n",
       "            <td>124,999</td> <td>629988            </td>\n",
       "        </tr>\n",
       "    </tbody>\n",
       "        <tr>\n",
       "            <td>149,999</td> <td>779987            </td>\n",
       "        </tr>\n",
       "    </tbody>\n",
       "        <tr>\n",
       "            <td>199,999</td> <td>979986            </td>\n",
       "        </tr>\n",
       "    </tbody>\n",
       "        <tr>\n",
       "            <td>200,000</td> <td>1179986           </td>\n",
       "        </tr>\n",
       "    </tbody>\n",
       "</table>"
      ],
      "text/plain": [
       "<IPython.core.display.HTML object>"
      ]
     },
     "metadata": {},
     "output_type": "display_data"
    }
   ],
   "source": [
    "ordered_incomes = lorenzdata.column(\"Income Bracket (less than)\")\n",
    "\n",
    "total = 0\n",
    "cumulative_step = []\n",
    "for x in ordered_incomes:\n",
    "    n = (int)(x.replace(\",\", \"\"))\n",
    "    total =  (total + (n))\n",
    "    cumulative_step.append(total)\n",
    "    \n",
    "lorenz_table = Table().with_columns(\n",
    "    [\"Income\", ordered_incomes],\n",
    "    [\"Cumulative Incomes\", cumulative_step])\n",
    "\n",
    "lorenz_table.show()"
   ]
  },
  {
   "cell_type": "markdown",
   "metadata": {
    "deletable": true,
    "editable": true
   },
   "source": [
    "Next we want to calculate what proportion of the population is in each income bracket. We do this by dividing each cell of the column \"Cumulative Income\" with the number in last cell 1,179,986 which represents the total population."
   ]
  },
  {
   "cell_type": "code",
   "execution_count": 17,
   "metadata": {
    "collapsed": false,
    "deletable": true,
    "editable": true
   },
   "outputs": [
    {
     "data": {
      "text/html": [
       "<table border=\"1\" class=\"dataframe\">\n",
       "    <thead>\n",
       "        <tr>\n",
       "            <th>Income</th> <th>Cumulative Incomes</th> <th>Percent Income</th>\n",
       "        </tr>\n",
       "    </thead>\n",
       "    <tbody>\n",
       "        <tr>\n",
       "            <td>10,000 </td> <td>10000             </td> <td>0.00847468    </td>\n",
       "        </tr>\n",
       "    </tbody>\n",
       "        <tr>\n",
       "            <td>14,999 </td> <td>24999             </td> <td>0.0211858     </td>\n",
       "        </tr>\n",
       "    </tbody>\n",
       "        <tr>\n",
       "            <td>19,999 </td> <td>44998             </td> <td>0.0381344     </td>\n",
       "        </tr>\n",
       "    </tbody>\n",
       "        <tr>\n",
       "            <td>24,999 </td> <td>69997             </td> <td>0.0593202     </td>\n",
       "        </tr>\n",
       "    </tbody>\n",
       "        <tr>\n",
       "            <td>29,999 </td> <td>99996             </td> <td>0.0847434     </td>\n",
       "        </tr>\n",
       "    </tbody>\n",
       "        <tr>\n",
       "            <td>34,999 </td> <td>134995            </td> <td>0.114404      </td>\n",
       "        </tr>\n",
       "    </tbody>\n",
       "        <tr>\n",
       "            <td>39,999 </td> <td>174994            </td> <td>0.148302      </td>\n",
       "        </tr>\n",
       "    </tbody>\n",
       "        <tr>\n",
       "            <td>44,999 </td> <td>219993            </td> <td>0.186437      </td>\n",
       "        </tr>\n",
       "    </tbody>\n",
       "        <tr>\n",
       "            <td>49,999 </td> <td>269992            </td> <td>0.228809      </td>\n",
       "        </tr>\n",
       "    </tbody>\n",
       "        <tr>\n",
       "            <td>59,999 </td> <td>329991            </td> <td>0.279657      </td>\n",
       "        </tr>\n",
       "    </tbody>\n",
       "        <tr>\n",
       "            <td>74,999 </td> <td>404990            </td> <td>0.343216      </td>\n",
       "        </tr>\n",
       "    </tbody>\n",
       "        <tr>\n",
       "            <td>99,999 </td> <td>504989            </td> <td>0.427962      </td>\n",
       "        </tr>\n",
       "    </tbody>\n",
       "        <tr>\n",
       "            <td>124,999</td> <td>629988            </td> <td>0.533894      </td>\n",
       "        </tr>\n",
       "    </tbody>\n",
       "        <tr>\n",
       "            <td>149,999</td> <td>779987            </td> <td>0.661014      </td>\n",
       "        </tr>\n",
       "    </tbody>\n",
       "        <tr>\n",
       "            <td>199,999</td> <td>979986            </td> <td>0.830506      </td>\n",
       "        </tr>\n",
       "    </tbody>\n",
       "        <tr>\n",
       "            <td>200,000</td> <td>1179986           </td> <td>1             </td>\n",
       "        </tr>\n",
       "    </tbody>\n",
       "</table>"
      ],
      "text/plain": [
       "<IPython.core.display.HTML object>"
      ]
     },
     "metadata": {},
     "output_type": "display_data"
    }
   ],
   "source": [
    "total_income = 1179986\n",
    "percents = []\n",
    "for x in cumulative_step:\n",
    "    percent = x / total_income\n",
    "    percents.append(percent)\n",
    "    \n",
    "lorenz_table = Table().with_columns(\n",
    "    [\"Income\", ordered_incomes],\n",
    "    [\"Cumulative Incomes\", cumulative_step],\n",
    "    [\"Percent Income\", percents])\n",
    "\n",
    "lorenz_table.show()"
   ]
  },
  {
   "cell_type": "markdown",
   "metadata": {
    "deletable": true,
    "editable": true
   },
   "source": [
    "Notice how the last cell in the \"Percent Income\" column reads 1. This is a good check that we are on the right direction, but each value in the \"Percent Income\" column is $\\frac {\\text {income at that cumulative step}} {\\text {total income}}$. Now we are going to create a \"Cumulative Population\" column similar to how we created \"Cumulative Incomes\"."
   ]
  },
  {
   "cell_type": "code",
   "execution_count": 18,
   "metadata": {
    "collapsed": false,
    "deletable": true,
    "editable": true
   },
   "outputs": [
    {
     "data": {
      "text/html": [
       "<table border=\"1\" class=\"dataframe\">\n",
       "    <thead>\n",
       "        <tr>\n",
       "            <th>Income</th> <th>Cumulative Incomes</th> <th>Percent Income</th> <th>Population</th> <th>Cumulative Population</th>\n",
       "        </tr>\n",
       "    </thead>\n",
       "    <tbody>\n",
       "        <tr>\n",
       "            <td>10,000 </td> <td>10000             </td> <td>0.00847468    </td> <td>8,421,482 </td> <td>8421482              </td>\n",
       "        </tr>\n",
       "    </tbody>\n",
       "        <tr>\n",
       "            <td>14,999 </td> <td>24999             </td> <td>0.0211858     </td> <td>6,161,477 </td> <td>14582959             </td>\n",
       "        </tr>\n",
       "    </tbody>\n",
       "        <tr>\n",
       "            <td>19,999 </td> <td>44998             </td> <td>0.0381344     </td> <td>6,139,644 </td> <td>20722603             </td>\n",
       "        </tr>\n",
       "    </tbody>\n",
       "        <tr>\n",
       "            <td>24,999 </td> <td>69997             </td> <td>0.0593202     </td> <td>6,227,524 </td> <td>26950127             </td>\n",
       "        </tr>\n",
       "    </tbody>\n",
       "        <tr>\n",
       "            <td>29,999 </td> <td>99996             </td> <td>0.0847434     </td> <td>5,852,048 </td> <td>32802175             </td>\n",
       "        </tr>\n",
       "    </tbody>\n",
       "        <tr>\n",
       "            <td>34,999 </td> <td>134995            </td> <td>0.114404      </td> <td>5,951,926 </td> <td>38754101             </td>\n",
       "        </tr>\n",
       "    </tbody>\n",
       "        <tr>\n",
       "            <td>39,999 </td> <td>174994            </td> <td>0.148302      </td> <td>5,436,927 </td> <td>44191028             </td>\n",
       "        </tr>\n",
       "    </tbody>\n",
       "        <tr>\n",
       "            <td>44,999 </td> <td>219993            </td> <td>0.186437      </td> <td>5,428,388 </td> <td>49619416             </td>\n",
       "        </tr>\n",
       "    </tbody>\n",
       "        <tr>\n",
       "            <td>49,999 </td> <td>269992            </td> <td>0.228809      </td> <td>4,807,116 </td> <td>54426532             </td>\n",
       "        </tr>\n",
       "    </tbody>\n",
       "        <tr>\n",
       "            <td>59,999 </td> <td>329991            </td> <td>0.279657      </td> <td>9,192,915 </td> <td>63619447             </td>\n",
       "        </tr>\n",
       "    </tbody>\n",
       "        <tr>\n",
       "            <td>74,999 </td> <td>404990            </td> <td>0.343216      </td> <td>11,634,324</td> <td>75253771             </td>\n",
       "        </tr>\n",
       "    </tbody>\n",
       "        <tr>\n",
       "            <td>99,999 </td> <td>504989            </td> <td>0.427962      </td> <td>14,166,538</td> <td>89420309             </td>\n",
       "        </tr>\n",
       "    </tbody>\n",
       "        <tr>\n",
       "            <td>124,999</td> <td>629988            </td> <td>0.533894      </td> <td>9,581,177 </td> <td>99001486             </td>\n",
       "        </tr>\n",
       "    </tbody>\n",
       "        <tr>\n",
       "            <td>149,999</td> <td>779987            </td> <td>0.661014      </td> <td>5,775,363 </td> <td>104776849            </td>\n",
       "        </tr>\n",
       "    </tbody>\n",
       "        <tr>\n",
       "            <td>199,999</td> <td>979986            </td> <td>0.830506      </td> <td>6,010,418 </td> <td>110787267            </td>\n",
       "        </tr>\n",
       "    </tbody>\n",
       "        <tr>\n",
       "            <td>200,000</td> <td>1179986           </td> <td>1             </td> <td>6,139,038 </td> <td>116926305            </td>\n",
       "        </tr>\n",
       "    </tbody>\n",
       "</table>"
      ],
      "text/plain": [
       "<IPython.core.display.HTML object>"
      ]
     },
     "metadata": {},
     "output_type": "display_data"
    }
   ],
   "source": [
    "population = lorenzdata.column(\"Total Estimate\")\n",
    "\n",
    "total_pop = 0\n",
    "cumulative_pop = []\n",
    "for x in population:\n",
    "    n = (int) (x.replace(\",\", \"\"))\n",
    "    total_pop =  (total_pop + (n))\n",
    "    cumulative_pop.append(total_pop)\n",
    "    \n",
    "lorenz_table = Table().with_columns(\n",
    "    [\"Income\", ordered_incomes],\n",
    "    [\"Cumulative Incomes\", cumulative_step],\n",
    "    [\"Percent Income\", percents],\n",
    "    [\"Population\", population],\n",
    "    [\"Cumulative Population\", cumulative_pop])\n",
    "\n",
    "lorenz_table.show()\n"
   ]
  },
  {
   "cell_type": "markdown",
   "metadata": {
    "deletable": true,
    "editable": true
   },
   "source": [
    "Now we're going to create a \"Percent Population\" column."
   ]
  },
  {
   "cell_type": "code",
   "execution_count": 19,
   "metadata": {
    "collapsed": false,
    "deletable": true,
    "editable": true
   },
   "outputs": [
    {
     "data": {
      "text/html": [
       "<table border=\"1\" class=\"dataframe\">\n",
       "    <thead>\n",
       "        <tr>\n",
       "            <th>Income</th> <th>Cumulative Incomes</th> <th>Percent Income</th> <th>Population</th> <th>Cumulative Population</th> <th>Percent Population</th>\n",
       "        </tr>\n",
       "    </thead>\n",
       "    <tbody>\n",
       "        <tr>\n",
       "            <td>10,000 </td> <td>10000             </td> <td>0.00847468    </td> <td>8,421,482 </td> <td>8421482              </td> <td>0.0720238         </td>\n",
       "        </tr>\n",
       "    </tbody>\n",
       "        <tr>\n",
       "            <td>14,999 </td> <td>24999             </td> <td>0.0211858     </td> <td>6,161,477 </td> <td>14582959             </td> <td>0.124719          </td>\n",
       "        </tr>\n",
       "    </tbody>\n",
       "        <tr>\n",
       "            <td>19,999 </td> <td>44998             </td> <td>0.0381344     </td> <td>6,139,644 </td> <td>20722603             </td> <td>0.177228          </td>\n",
       "        </tr>\n",
       "    </tbody>\n",
       "        <tr>\n",
       "            <td>24,999 </td> <td>69997             </td> <td>0.0593202     </td> <td>6,227,524 </td> <td>26950127             </td> <td>0.230488          </td>\n",
       "        </tr>\n",
       "    </tbody>\n",
       "        <tr>\n",
       "            <td>29,999 </td> <td>99996             </td> <td>0.0847434     </td> <td>5,852,048 </td> <td>32802175             </td> <td>0.280537          </td>\n",
       "        </tr>\n",
       "    </tbody>\n",
       "        <tr>\n",
       "            <td>34,999 </td> <td>134995            </td> <td>0.114404      </td> <td>5,951,926 </td> <td>38754101             </td> <td>0.33144           </td>\n",
       "        </tr>\n",
       "    </tbody>\n",
       "        <tr>\n",
       "            <td>39,999 </td> <td>174994            </td> <td>0.148302      </td> <td>5,436,927 </td> <td>44191028             </td> <td>0.377939          </td>\n",
       "        </tr>\n",
       "    </tbody>\n",
       "        <tr>\n",
       "            <td>44,999 </td> <td>219993            </td> <td>0.186437      </td> <td>5,428,388 </td> <td>49619416             </td> <td>0.424365          </td>\n",
       "        </tr>\n",
       "    </tbody>\n",
       "        <tr>\n",
       "            <td>49,999 </td> <td>269992            </td> <td>0.228809      </td> <td>4,807,116 </td> <td>54426532             </td> <td>0.465477          </td>\n",
       "        </tr>\n",
       "    </tbody>\n",
       "        <tr>\n",
       "            <td>59,999 </td> <td>329991            </td> <td>0.279657      </td> <td>9,192,915 </td> <td>63619447             </td> <td>0.544099          </td>\n",
       "        </tr>\n",
       "    </tbody>\n",
       "        <tr>\n",
       "            <td>74,999 </td> <td>404990            </td> <td>0.343216      </td> <td>11,634,324</td> <td>75253771             </td> <td>0.6436            </td>\n",
       "        </tr>\n",
       "    </tbody>\n",
       "        <tr>\n",
       "            <td>99,999 </td> <td>504989            </td> <td>0.427962      </td> <td>14,166,538</td> <td>89420309             </td> <td>0.764758          </td>\n",
       "        </tr>\n",
       "    </tbody>\n",
       "        <tr>\n",
       "            <td>124,999</td> <td>629988            </td> <td>0.533894      </td> <td>9,581,177 </td> <td>99001486             </td> <td>0.8467            </td>\n",
       "        </tr>\n",
       "    </tbody>\n",
       "        <tr>\n",
       "            <td>149,999</td> <td>779987            </td> <td>0.661014      </td> <td>5,775,363 </td> <td>104776849            </td> <td>0.896093          </td>\n",
       "        </tr>\n",
       "    </tbody>\n",
       "        <tr>\n",
       "            <td>199,999</td> <td>979986            </td> <td>0.830506      </td> <td>6,010,418 </td> <td>110787267            </td> <td>0.947497          </td>\n",
       "        </tr>\n",
       "    </tbody>\n",
       "        <tr>\n",
       "            <td>200,000</td> <td>1179986           </td> <td>1             </td> <td>6,139,038 </td> <td>116926305            </td> <td>1                 </td>\n",
       "        </tr>\n",
       "    </tbody>\n",
       "</table>"
      ],
      "text/plain": [
       "<IPython.core.display.HTML object>"
      ]
     },
     "metadata": {},
     "output_type": "display_data"
    }
   ],
   "source": [
    "total_pop = 116926305\n",
    "pop_percent = []\n",
    "\n",
    "for i in cumulative_pop:\n",
    "    p = i / total_pop\n",
    "    pop_percent.append(p)\n",
    "    \n",
    "lorenz_table = Table().with_columns(\n",
    "    [\"Income\", ordered_incomes],\n",
    "    [\"Cumulative Incomes\", cumulative_step],\n",
    "    [\"Percent Income\", percents],\n",
    "    [\"Population\", population],\n",
    "    [\"Cumulative Population\", cumulative_pop],\n",
    "    [\"Percent Population\", pop_percent])\n",
    "\n",
    "lorenz_table.show()"
   ]
  },
  {
   "cell_type": "markdown",
   "metadata": {
    "deletable": true,
    "editable": true
   },
   "source": [
    "Now, with this table constructed, we are ready to graph the Lorenz Curve!"
   ]
  },
  {
   "cell_type": "code",
   "execution_count": 20,
   "metadata": {
    "collapsed": false,
    "deletable": true,
    "editable": true
   },
   "outputs": [
    {
     "data": {
      "text/plain": [
       "<matplotlib.collections.PathCollection at 0x114eaff60>"
      ]
     },
     "execution_count": 20,
     "metadata": {},
     "output_type": "execute_result"
    },
    {
     "data": {
      "image/png": "[encoded data removed]",
      "text/plain": [
       "<matplotlib.figure.Figure at 0x114e37b70>"
      ]
     },
     "metadata": {},
     "output_type": "display_data"
    }
   ],
   "source": [
    "x_values = lorenz_table['Percent Population']\n",
    "y_values = lorenz_table['Percent Income']\n",
    "\n",
    "plt.scatter(x_values, y_values)"
   ]
  },
  {
   "cell_type": "markdown",
   "metadata": {
    "deletable": true,
    "editable": true
   },
   "source": [
    "## Calculate the Gini coefficient:\n",
    "The Gini coefficient is the area between the line and the 45% line.  It is the sum of the differences between Percent Population and Percent Income divided by the sum of Percent Population.  This number is between 0 and 1.  Consider if a smaller number represents more inequality and what the relationship of the formula to the graph is. The higher the Gini-coefficient is, the more unequal is the distribution of the thing being distributed across the population in question.  \n",
    "\n",
    "$$ \\frac{\\Sigma_{i=1}^{N} (\\% Pop_i - \\% Inc_i)}{\\Sigma_{i=1}^{N} \\% Pop_i}$$\n",
    "\n",
    "Note that if there were perfect equality, $\\% Pop_i = \\% Inc_i$."
   ]
  },
  {
   "cell_type": "markdown",
   "metadata": {
    "deletable": true,
    "editable": true
   },
   "source": [
    "Below we are going to create a column \"Differences\" that will hold the values of \"Percent Population\" - \"Percent Income\""
   ]
  },
  {
   "cell_type": "code",
   "execution_count": 21,
   "metadata": {
    "collapsed": false,
    "deletable": true,
    "editable": true
   },
   "outputs": [
    {
     "data": {
      "text/html": [
       "<table border=\"1\" class=\"dataframe\">\n",
       "    <thead>\n",
       "        <tr>\n",
       "            <th>Income</th> <th>Cumulative Incomes</th> <th>Percent Income</th> <th>Population</th> <th>Cumulative Population</th> <th>Percent Population</th> <th>Differences</th>\n",
       "        </tr>\n",
       "    </thead>\n",
       "    <tbody>\n",
       "        <tr>\n",
       "            <td>10,000 </td> <td>10000             </td> <td>0.00847468    </td> <td>8,421,482 </td> <td>8421482              </td> <td>0.0720238         </td> <td>0.0635492  </td>\n",
       "        </tr>\n",
       "    </tbody>\n",
       "        <tr>\n",
       "            <td>14,999 </td> <td>24999             </td> <td>0.0211858     </td> <td>6,161,477 </td> <td>14582959             </td> <td>0.124719          </td> <td>0.103533   </td>\n",
       "        </tr>\n",
       "    </tbody>\n",
       "        <tr>\n",
       "            <td>19,999 </td> <td>44998             </td> <td>0.0381344     </td> <td>6,139,644 </td> <td>20722603             </td> <td>0.177228          </td> <td>0.139094   </td>\n",
       "        </tr>\n",
       "    </tbody>\n",
       "        <tr>\n",
       "            <td>24,999 </td> <td>69997             </td> <td>0.0593202     </td> <td>6,227,524 </td> <td>26950127             </td> <td>0.230488          </td> <td>0.171168   </td>\n",
       "        </tr>\n",
       "    </tbody>\n",
       "        <tr>\n",
       "            <td>29,999 </td> <td>99996             </td> <td>0.0847434     </td> <td>5,852,048 </td> <td>32802175             </td> <td>0.280537          </td> <td>0.195794   </td>\n",
       "        </tr>\n",
       "    </tbody>\n",
       "        <tr>\n",
       "            <td>34,999 </td> <td>134995            </td> <td>0.114404      </td> <td>5,951,926 </td> <td>38754101             </td> <td>0.33144           </td> <td>0.217036   </td>\n",
       "        </tr>\n",
       "    </tbody>\n",
       "        <tr>\n",
       "            <td>39,999 </td> <td>174994            </td> <td>0.148302      </td> <td>5,436,927 </td> <td>44191028             </td> <td>0.377939          </td> <td>0.229637   </td>\n",
       "        </tr>\n",
       "    </tbody>\n",
       "        <tr>\n",
       "            <td>44,999 </td> <td>219993            </td> <td>0.186437      </td> <td>5,428,388 </td> <td>49619416             </td> <td>0.424365          </td> <td>0.237928   </td>\n",
       "        </tr>\n",
       "    </tbody>\n",
       "        <tr>\n",
       "            <td>49,999 </td> <td>269992            </td> <td>0.228809      </td> <td>4,807,116 </td> <td>54426532             </td> <td>0.465477          </td> <td>0.236668   </td>\n",
       "        </tr>\n",
       "    </tbody>\n",
       "        <tr>\n",
       "            <td>59,999 </td> <td>329991            </td> <td>0.279657      </td> <td>9,192,915 </td> <td>63619447             </td> <td>0.544099          </td> <td>0.264442   </td>\n",
       "        </tr>\n",
       "    </tbody>\n",
       "        <tr>\n",
       "            <td>74,999 </td> <td>404990            </td> <td>0.343216      </td> <td>11,634,324</td> <td>75253771             </td> <td>0.6436            </td> <td>0.300384   </td>\n",
       "        </tr>\n",
       "    </tbody>\n",
       "        <tr>\n",
       "            <td>99,999 </td> <td>504989            </td> <td>0.427962      </td> <td>14,166,538</td> <td>89420309             </td> <td>0.764758          </td> <td>0.336796   </td>\n",
       "        </tr>\n",
       "    </tbody>\n",
       "        <tr>\n",
       "            <td>124,999</td> <td>629988            </td> <td>0.533894      </td> <td>9,581,177 </td> <td>99001486             </td> <td>0.8467            </td> <td>0.312805   </td>\n",
       "        </tr>\n",
       "    </tbody>\n",
       "        <tr>\n",
       "            <td>149,999</td> <td>779987            </td> <td>0.661014      </td> <td>5,775,363 </td> <td>104776849            </td> <td>0.896093          </td> <td>0.235079   </td>\n",
       "        </tr>\n",
       "    </tbody>\n",
       "        <tr>\n",
       "            <td>199,999</td> <td>979986            </td> <td>0.830506      </td> <td>6,010,418 </td> <td>110787267            </td> <td>0.947497          </td> <td>0.11699    </td>\n",
       "        </tr>\n",
       "    </tbody>\n",
       "        <tr>\n",
       "            <td>200,000</td> <td>1179986           </td> <td>1             </td> <td>6,139,038 </td> <td>116926305            </td> <td>1                 </td> <td>0          </td>\n",
       "        </tr>\n",
       "    </tbody>\n",
       "</table>"
      ],
      "text/plain": [
       "<IPython.core.display.HTML object>"
      ]
     },
     "metadata": {},
     "output_type": "display_data"
    }
   ],
   "source": [
    "from operator import sub\n",
    "differences = map(sub, pop_percent, percents)\n",
    "\n",
    "lorenz_table = Table().with_columns(\n",
    "     [\"Income\", ordered_incomes],\n",
    "     [\"Cumulative Incomes\", cumulative_step],\n",
    "     [\"Percent Income\", percents],\n",
    "     [\"Population\", population],\n",
    "     [\"Cumulative Population\", cumulative_pop],\n",
    "     [\"Percent Population\", pop_percent],\n",
    "     [\"Differences\", differences])\n",
    "\n",
    "lorenz_table.show() "
   ]
  },
  {
   "cell_type": "markdown",
   "metadata": {
    "collapsed": true,
    "deletable": true,
    "editable": true
   },
   "source": [
    "To calculate the Gini coefficient, we need the sum of all the differences. The code cell below is going to find that sum."
   ]
  },
  {
   "cell_type": "code",
   "execution_count": 22,
   "metadata": {
    "collapsed": false,
    "deletable": true,
    "editable": true
   },
   "outputs": [
    {
     "data": {
      "text/plain": [
       "3.1609041101371704"
      ]
     },
     "execution_count": 22,
     "metadata": {},
     "output_type": "execute_result"
    }
   ],
   "source": [
    "# also the actual sum for the column of differences gives a value of 3.1609032\n",
    "# after division the Gini coefficient is supposed to be less than 1\n",
    "\n",
    "sum = 0\n",
    "differences = lorenz_table.column(\"Differences\")\n",
    "for d in differences:\n",
    "    sum = sum + d\n",
    "sum"
   ]
  },
  {
   "cell_type": "markdown",
   "metadata": {
    "deletable": true,
    "editable": true
   },
   "source": [
    "Find the Gini coefficient for all US citizens. "
   ]
  },
  {
   "cell_type": "markdown",
   "metadata": {
    "deletable": true,
    "editable": true
   },
   "source": [
    "Divide the sum of the differences by ${\\Sigma_{i=1}^{N} \\% Pop_i}$. This is your Gini coefficient for all US citizens. Enter your value below."
   ]
  },
  {
   "cell_type": "code",
   "execution_count": 23,
   "metadata": {
    "collapsed": false,
    "deletable": true,
    "editable": true
   },
   "outputs": [
    {
     "data": {
      "text/plain": [
       "0.38894034205111178"
      ]
     },
     "execution_count": 23,
     "metadata": {},
     "output_type": "execute_result"
    }
   ],
   "source": [
    "denom = 0;\n",
    "denom_list = lorenz_table.column(\"Percent Population\")\n",
    "for d in denom_list:\n",
    "    denom += d;\n",
    "sum / denom"
   ]
  },
  {
   "cell_type": "code",
   "execution_count": null,
   "metadata": {
    "collapsed": true,
    "deletable": true,
    "editable": true
   },
   "outputs": [],
   "source": []
  },
  {
   "cell_type": "markdown",
   "metadata": {
    "deletable": true,
    "editable": true
   },
   "source": [
    "Let's do the same thing and find the Gini coefficient for African Americans. The income data for African Americans is displayed below."
   ]
  },
  {
   "cell_type": "code",
   "execution_count": 24,
   "metadata": {
    "collapsed": false,
    "deletable": true,
    "editable": true
   },
   "outputs": [
    {
     "data": {
      "text/html": [
       "<table border=\"1\" class=\"dataframe\">\n",
       "    <thead>\n",
       "        <tr>\n",
       "            <th>Income Bracket ($)</th> <th>Total Estimate (African American)</th>\n",
       "        </tr>\n",
       "    </thead>\n",
       "    <tbody>\n",
       "        <tr>\n",
       "            <td>Total              </td> <td>14,186,983                       </td>\n",
       "        </tr>\n",
       "    </tbody>\n",
       "        <tr>\n",
       "            <td>less than 10,000   </td> <td>2,055,646                        </td>\n",
       "        </tr>\n",
       "    </tbody>\n",
       "        <tr>\n",
       "            <td>10,000 - 14,999    </td> <td>1,200,275                        </td>\n",
       "        </tr>\n",
       "    </tbody>\n",
       "        <tr>\n",
       "            <td>15,000 - 19,999    </td> <td>1,036,925                        </td>\n",
       "        </tr>\n",
       "    </tbody>\n",
       "        <tr>\n",
       "            <td>20,000 - 24,999    </td> <td>963,763                          </td>\n",
       "        </tr>\n",
       "    </tbody>\n",
       "        <tr>\n",
       "            <td>25,000 - 29,999    </td> <td>871,472                          </td>\n",
       "        </tr>\n",
       "    </tbody>\n",
       "        <tr>\n",
       "            <td>30,000 - 34,999    </td> <td>852,511                          </td>\n",
       "        </tr>\n",
       "    </tbody>\n",
       "        <tr>\n",
       "            <td>35,000 - 39,999    </td> <td>733,425                          </td>\n",
       "        </tr>\n",
       "    </tbody>\n",
       "        <tr>\n",
       "            <td>40,000 - 44,999    </td> <td>685,742                          </td>\n",
       "        </tr>\n",
       "    </tbody>\n",
       "        <tr>\n",
       "            <td>45,000 - 49,999    </td> <td>574,233                          </td>\n",
       "        </tr>\n",
       "    </tbody>\n",
       "        <tr>\n",
       "            <td>50,000 - 59,999    </td> <td>1,046,406                        </td>\n",
       "        </tr>\n",
       "    </tbody>\n",
       "        <tr>\n",
       "            <td>60,000 - 74,999    </td> <td>1,183,415                        </td>\n",
       "        </tr>\n",
       "    </tbody>\n",
       "        <tr>\n",
       "            <td>75,000 - 99,999    </td> <td>1,255,718                        </td>\n",
       "        </tr>\n",
       "    </tbody>\n",
       "        <tr>\n",
       "            <td>100,000 - 124,999  </td> <td>733,718                          </td>\n",
       "        </tr>\n",
       "    </tbody>\n",
       "        <tr>\n",
       "            <td>125,000 - 149,999  </td> <td>395,609                          </td>\n",
       "        </tr>\n",
       "    </tbody>\n",
       "        <tr>\n",
       "            <td>150,000 - 199,999  </td> <td>357,826                          </td>\n",
       "        </tr>\n",
       "    </tbody>\n",
       "        <tr>\n",
       "            <td>200,000 or more    </td> <td>240,299                          </td>\n",
       "        </tr>\n",
       "    </tbody>\n",
       "</table>"
      ],
      "text/plain": [
       "<IPython.core.display.HTML object>"
      ]
     },
     "metadata": {},
     "output_type": "display_data"
    }
   ],
   "source": [
    "aaincome.show()"
   ]
  },
  {
   "cell_type": "markdown",
   "metadata": {
    "deletable": true,
    "editable": true
   },
   "source": [
    "Create another column with the difference from the 45 degree line to the actual proportion of the population that falls within a certain income range."
   ]
  },
  {
   "cell_type": "code",
   "execution_count": null,
   "metadata": {
    "collapsed": false,
    "deletable": true,
    "editable": true
   },
   "outputs": [],
   "source": []
  },
  {
   "cell_type": "code",
   "execution_count": 25,
   "metadata": {
    "collapsed": true,
    "deletable": true,
    "editable": true
   },
   "outputs": [],
   "source": [
    "#create column"
   ]
  },
  {
   "cell_type": "markdown",
   "metadata": {
    "deletable": true,
    "editable": true
   },
   "source": [
    "Find the sum of the column of differences."
   ]
  },
  {
   "cell_type": "code",
   "execution_count": 26,
   "metadata": {
    "collapsed": true,
    "deletable": true,
    "editable": true
   },
   "outputs": [],
   "source": [
    "#find sum"
   ]
  },
  {
   "cell_type": "markdown",
   "metadata": {
    "deletable": true,
    "editable": true
   },
   "source": [
    "Divide it by ${\\Sigma_{i=1}^{N} \\% Pop_i}$. This is your Gini coefficient for African Americans. Enter your value below."
   ]
  },
  {
   "cell_type": "code",
   "execution_count": null,
   "metadata": {
    "collapsed": true,
    "deletable": true,
    "editable": true
   },
   "outputs": [],
   "source": []
  },
  {
   "cell_type": "markdown",
   "metadata": {
    "deletable": true,
    "editable": true
   },
   "source": [
    "Is the African American population more or less unequal than the total US population? Explain some reasoning as to why this might be the case."
   ]
  },
  {
   "cell_type": "code",
   "execution_count": null,
   "metadata": {
    "collapsed": true,
    "deletable": true,
    "editable": true
   },
   "outputs": [],
   "source": []
  },
  {
   "cell_type": "markdown",
   "metadata": {
    "deletable": true,
    "editable": true
   },
   "source": [
    "# Another Way of Showing Inequality: Boxplots\n",
    "\n",
    "We want to see how inequality through wealth and income can vary through different races. One good way to demonstrate this is through boxplots*.\n",
    "\n",
    "*A quick review of boxplots: boxplots highlight the median, upper quartile, lower quartile, and outliers in a set of data."
   ]
  },
  {
   "cell_type": "code",
   "execution_count": 27,
   "metadata": {
    "collapsed": false,
    "deletable": true,
    "editable": true
   },
   "outputs": [
    {
     "data": {
      "image/png": "[encoded data removed]",
      "text/plain": [
       "<matplotlib.figure.Figure at 0x114edcd68>"
      ]
     },
     "metadata": {},
     "output_type": "display_data"
    }
   ],
   "source": [
    "# African-American\n",
    "african_bottom_income = 10000\n",
    "african_lower_quartile_income = 17500\n",
    "african_median_income = 37500\n",
    "african_upper_quartile_income = 67500\n",
    "african_top_income = 112500\n",
    "\n",
    "african = [african_bottom_income, african_lower_quartile_income, african_median_income, \n",
    "           african_upper_quartile_income, african_top_income]\n",
    "\n",
    "# Asian\n",
    "asian_bottom_income = 12500\n",
    "asian_lower_quartile_income = 37500\n",
    "asian_median_income = 67500\n",
    "asian_upper_quartile_income = 112500\n",
    "asian_top_income = 200000\n",
    "\n",
    "asian = [asian_bottom_income, asian_lower_quartile_income, asian_median_income, \n",
    "           asian_upper_quartile_income, asian_top_income]\n",
    "\n",
    "# Hispanic\n",
    "hispanic_bottom_income = 12500\n",
    "hispanic_lower_quartile_income = 22500\n",
    "hispanic_median_income = 42500\n",
    "hispanic_upper_quartile_income = 67500\n",
    "hispanic_top_income = 112500\n",
    "\n",
    "hispanic = [hispanic_bottom_income, hispanic_lower_quartile_income, hispanic_median_income, \n",
    "           hispanic_upper_quartile_income, hispanic_top_income]\n",
    "\n",
    "# White\n",
    "white_bottom_income = 10000\n",
    "white_lower_quartile_income = 32500\n",
    "white_median_income = 55000\n",
    "white_upper_quartile_income = 112500\n",
    "white_top_income = 175000\n",
    "\n",
    "white = [white_bottom_income, white_lower_quartile_income, white_median_income, \n",
    "           white_upper_quartile_income, white_top_income]\n",
    "\n",
    "demographic_income = [african, asian, hispanic, white]\n",
    "\n",
    "\n",
    "# figure related code\n",
    "fig = plt.figure()\n",
    "fig.suptitle('Income by Race', fontsize=14, fontweight='bold')\n",
    "\n",
    "ax = fig.add_subplot(111)\n",
    "ax.boxplot(demographic_income)\n",
    "\n",
    "ax.set_xlabel('Race: 1 for African, 2 for Asian, 3 for Hispanic, 4 for White')\n",
    "ax.set_ylabel('Income')\n",
    "\n",
    "\n",
    "plt.show()"
   ]
  },
  {
   "cell_type": "markdown",
   "metadata": {
    "deletable": true,
    "editable": true
   },
   "source": [
    "What conclusions can we draw from this box plot? Is the comparison for individual SES to aggregate US median SES the same as the comparison for individual SES to race median SES?"
   ]
  },
  {
   "cell_type": "code",
   "execution_count": null,
   "metadata": {
    "collapsed": true,
    "deletable": true,
    "editable": true
   },
   "outputs": [],
   "source": []
  }
 ],
 "metadata": {
  "kernelspec": {
   "display_name": "Python 3",
   "language": "python",
   "name": "python3"
  },
  "language_info": {
   "codemirror_mode": {
    "name": "ipython",
    "version": 3
   },
   "file_extension": ".py",
   "mimetype": "text/x-python",
   "name": "python",
   "nbconvert_exporter": "python",
   "pygments_lexer": "ipython3",
   "version": "3.5.2"
  },
  "widgets": {
   "state": {
    "1a62cd3535d2470088a215994c5875b7": {
     "views": [
      {
       "cell_index": 31
      }
     ]
    }
   },
   "version": "1.2.0"
  }
 },
 "nbformat": 4,
 "nbformat_minor": 2
}
